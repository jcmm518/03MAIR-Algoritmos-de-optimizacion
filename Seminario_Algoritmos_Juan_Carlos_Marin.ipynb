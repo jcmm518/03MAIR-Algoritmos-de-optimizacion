{
  "nbformat": 4,
  "nbformat_minor": 0,
  "metadata": {
    "colab": {
      "name": "Seminario_Algoritmos_Juan_Carlos_Marin.ipynb",
      "provenance": [],
      "collapsed_sections": [],
      "include_colab_link": true
    },
    "kernelspec": {
      "display_name": "Python 3",
      "language": "python",
      "name": "python3"
    },
    "language_info": {
      "codemirror_mode": {
        "name": "ipython",
        "version": 3
      },
      "file_extension": ".py",
      "mimetype": "text/x-python",
      "name": "python",
      "nbconvert_exporter": "python",
      "pygments_lexer": "ipython3",
      "version": "3.8.3"
    }
  },
  "cells": [
    {
      "cell_type": "markdown",
      "metadata": {
        "id": "view-in-github",
        "colab_type": "text"
      },
      "source": [
        "<a href=\"https://colab.research.google.com/github/jcmm518/03MAIR-Algoritmos-de-optimizacion/blob/main/Seminario_Algoritmos_Juan_Carlos_Marin.ipynb\" target=\"_parent\"><img src=\"https://colab.research.google.com/assets/colab-badge.svg\" alt=\"Open In Colab\"/></a>"
      ]
    },
    {
      "cell_type": "markdown",
      "metadata": {
        "id": "hVbXYX-RfPWh"
      },
      "source": [
        "# Algoritmos de optimización - Seminario<br>\n",
        "Nombre y Apellidos: **Juan Carlos Marin Mejia**   <br>\n",
        "Url: https://github.com/.../03MAIR---Algoritmos-de-Optimizacion---2019/tree/master/SEMINARIO<br>\n",
        "\n",
        "Url Colab: https://colab.research.google.com/drive/1QFa1rxNZFjZz1agwi_DpPy_HeaQew_65?usp=sharing\n",
        "\n",
        "**Problema:**\n",
        "\n",
        "> Combinar cifras y operaciones\n",
        "\n",
        "Descripción del problema:\n",
        "\n",
        "* Disponemos de las 9 cifras del 1 al 9 (excluimos el cero) y de los 4 signos básicos de las operaciones fundamentales: suma(+), resta(-), multiplicación(*) y división(/)\n",
        "\n",
        "\n",
        "* Debemos combinarlos alternativamente sin repetir ninguno de ellos para obtener una cantidad dada. Un ejemplo sería para obtener el 4:4+2-6/3*1 = 4\n",
        "\n",
        "(*) La respuesta es obligatoria                                      "
      ]
    },
    {
      "cell_type": "markdown",
      "metadata": {
        "id": "ofXKKdomi2Fy"
      },
      "source": [
        "### Inicio de la solución"
      ]
    },
    {
      "cell_type": "markdown",
      "metadata": {
        "id": "3_-exlrTgLd-"
      },
      "source": [
        "### 1. (*)¿Cuantas posibilidades hay sin tener en cuenta las restricciones?<br>\n",
        "\n",
        "\n",
        "\n",
        "\n",
        "\n",
        "\n"
      ]
    },
    {
      "cell_type": "markdown",
      "metadata": {
        "id": "2qXnNn3Ti2Fz"
      },
      "source": [
        "### Sin restricciones\n",
        "\n",
        "Sin tener las restricciones, se podrian repetir los numeros y las operaciones, por lo tanto, se tendría lo siguiente:\n",
        "\n",
        "Contamos con nueve (9) numeros, independiente de los operaciones, podemos tomar los 9 numeros de formas diferentes, por ejemplo 987654321 , 897645321, 798654213, etc, por lo tanto tenemos que:\n",
        "\n",
        "        Formas de tomar los numeros = 9 x 9 x 9 x 9 x 9 x 9 x 9 x 9 x 9 = 387.420.489\n",
        "       \n",
        "\n",
        "Ahora la pregunta es, ¿cuántas formas de operar dichas combinaciones existen?\n",
        "\n",
        "Pues en cada combinacion de 9 numeros, podemos operar hasta 8 veces, usando los 4 operadores diferentes, admitiendo cualquier operador tantas veces sea necesario, por ejemplo 1+2*3/4+5-6+7+8-9\n",
        "\n",
        "        Formas de operar = 4^8 = 65.536 \n",
        "\n",
        "Combinando, tendríamos lo siguiente:\n",
        "\n",
        "        Posibilidades = (formas de tomar los numeros) * (formas de operarlos) \n",
        "        \n",
        "        Posibilidades = (387.420.489) * (65.536) = 25.389.989.167.104\n",
        "\n",
        "**Segun los calculos, sin restricciones, tendriamos 25.389.989.167.104 opciones posibles de operar.**\n",
        "\n"
      ]
    },
    {
      "cell_type": "markdown",
      "metadata": {
        "id": "MQHyZuEJi2Fz"
      },
      "source": [
        "### 2. ¿Cuantas posibilidades hay teniendo en cuenta todas las restricciones"
      ]
    },
    {
      "cell_type": "markdown",
      "metadata": {
        "id": "dOXIkMTRi2F0"
      },
      "source": [
        "### Con restricciones\n",
        "\n",
        "Teniendo en cuenta las restricciones dadas, NO se podrian repetir los numeros y las operaciones, por lo tanto, se tendría lo siguiente:\n",
        "\n",
        "Contamos con nueve (9) numeros que no se pueden repetir, pero al tener la limitante de poder  utilizar solo 4 operadores que tampoco se pueden repetir, solo podemos contar maximo con tomar 5 digitos de 9, debido a que mas de cinco, no tendriamos operador para trabajarlo, por ejemplo 98721 , 86453, 79813, etc, por lo tanto tenemos que:\n",
        "\n",
        "        Formas de tomar los números = 9 x 8 x 7 x 6 x 5 = 15.120\n",
        "\n",
        "Ahora la pregunta es, cuantas formas de operar dichas combinaciones existen ?\n",
        "\n",
        "Pues en cada combinacion de los 5 numeros, podemos operar hasta 4 veces, usando los 4 operadores diferentes, por ejemplo 4+2-5*3/1\n",
        "\n",
        "        Formas de operar = 4 x 3 x 2 x 1 = 24\n",
        "\n",
        "Combinando, tendríamos lo siguiente:\n",
        "\n",
        "        Posibilidades = (formas de tomar los numeros) * (formas de operarlos)\n",
        "        \n",
        "        Posibilidades = (15.120) * (24) = 362.880\n",
        "\n",
        "**Segun los calculos, con restricciones, tendriamos 362.880 opciones posibles de operar.**\n"
      ]
    },
    {
      "cell_type": "markdown",
      "metadata": {
        "id": "dzynfVJahHoY"
      },
      "source": [
        "### 3. Modelo para el espacio de soluciones<br>\n",
        "(*) ¿Cual es la estructura de datos que mejor se adapta al problema? Argumentalo.(Es posible que hayas elegido una al principio y veas la necesidad de cambiar, arguentalo)\n"
      ]
    },
    {
      "cell_type": "markdown",
      "metadata": {
        "id": "fSS77UyGnpKo"
      },
      "source": [
        "#### Modelo adecuado de estructura de datos\r\n",
        "\r\n",
        "La estructura de datos mas adecuada para dar solucion al problema, es almacenamiento en listas de datos o arrays, debido a que podemos almacenarlos de forma organizada y simplificar los recorridos\r\n",
        "\r\n",
        "Para resolver el algoritmo que entrega solución óptima al problema, se recurre a la técnica: \"Divide y Vencerás\", se utiliza debido a que resolver el problema completamente por fuerza bruta, resulta en un algoritmo de una enorme complejidad, por lo tanto, se subdivide el problema en dos y una vez que de manera separada se hayan obtenido todas las combinaciones posibles, se vuelven a juntar las 2 partes en que se subdividió el problema,  y así a través de bucles y condicionales contrastar si el resultado de la operación completa, es igual al número inicial ingresado.\r\n",
        "\r\n"
      ]
    },
    {
      "cell_type": "markdown",
      "metadata": {
        "id": "7Z9U2W7bi-XS"
      },
      "source": [
        "### 4. Función objetivo\n",
        "\n",
        "Según el modelo para el espacio de soluciones<br>\n",
        "#### (*)¿Cual es la función objetivo?\n",
        "\n",
        "(*)¿Es un problema de maximización o minimización?"
      ]
    },
    {
      "cell_type": "markdown",
      "metadata": {
        "id": "hBalWLM7j1_d"
      },
      "source": [
        "Respuesta"
      ]
    },
    {
      "cell_type": "markdown",
      "metadata": {
        "id": "VNH_1gGEi2F2"
      },
      "source": [
        "El objetivo del problema, es el de ejecutar un algoritmo que encuentre combinaciones de 5 números enteros entre 1 y 9, que sin estar repetidos y aplicando las 4 operaciones, entregue como resultado un valor igual a un número inicial digitado. Lo anterior, no es una función objetivo, y por lo tanto, no es un problema de maximización y tampoco de minimización, ya que no hay que optimizar ninguna función.\n"
      ]
    },
    {
      "cell_type": "markdown",
      "metadata": {
        "id": "rlnTYgY1j6I2"
      },
      "source": [
        "### 5. Diseña un algoritmo para resolver el problema por fuerza bruta"
      ]
    },
    {
      "cell_type": "code",
      "metadata": {
        "id": "VFScbcdri2F3"
      },
      "source": [
        "# impotamos las librerias necesarias\n",
        "from itertools import * \n",
        "\n",
        "# Definimos lista de operadores\n",
        "signos =['+','-','*','/']\n",
        "\n",
        "# Definicion de listas de numeros\n",
        "numeros=['1','2','3','4','5','6','7','8','9']"
      ],
      "execution_count": null,
      "outputs": []
    },
    {
      "cell_type": "code",
      "metadata": {
        "id": "bmCBoGrBi2F3"
      },
      "source": [
        "#Decorador para tiempos de ejecución\n",
        "from time import time\n",
        "\n",
        "#Función para calcular tiempo de ejecución\n",
        "def calcular_tiempo(f):\n",
        "    def wrapper(*args, **kwargs):        \n",
        "        inicio = time()       \n",
        "        resultado = f(*args, **kwargs)       \n",
        "        tiempo = time() - inicio\n",
        "        print(\"Tiempo de ejecución para algoritmo: \"+str(tiempo) + ' Segundos')\n",
        "        return resultado\n",
        "    \n",
        "    return wrapper"
      ],
      "execution_count": null,
      "outputs": []
    },
    {
      "cell_type": "code",
      "metadata": {
        "id": "Nkpdtnqti2F3"
      },
      "source": [
        "@calcular_tiempo\n",
        "def fuerza_bruta(num_permuta,sig_permuta,resultado_deseado):\n",
        "    solucion=0\n",
        "    ejecuciones = 0\n",
        "    #Se recorren todos los valores de números y signos posibles\n",
        "    for i in range(len(num_permuta)): #Recorre toda la lista de permutaciones de números\n",
        "        for s in range (len(sig_permuta)): #Recorre toda la lista de permutaciones de signos\n",
        "            resultado=eval(num_permuta[i][0]+sig_permuta[s][0]+num_permuta[i][1]+sig_permuta[s][1]+num_permuta[i][2]+sig_permuta[s][2]+num_permuta[i][3]+sig_permuta[s][3]+num_permuta[i][4])\n",
        "            ejecuciones = ejecuciones + 1\n",
        "            if resultado==resultado_deseado:\n",
        "                solucion=(num_permuta[i][0],sig_permuta[s][0],num_permuta[i][1],sig_permuta[s][1],num_permuta[i][2],sig_permuta[s][2],num_permuta[i][3],sig_permuta[s][3],num_permuta[i][4])\n",
        "                break\n",
        "                \n",
        "    # Se imprimen los resultados\n",
        "    print(\"La combinacion encontrada se debe formar en orden de las operacoiones MDSR (Multiplicacion, Division, Suma, Resta) \")\n",
        "    print(\"\\n\")\n",
        "    print(\"Combinacion encontrada : \" + str(solucion)+ \" = \" + str(resultado_deseado))\n",
        "    print(\"\\n\")\n",
        "    print(\"Numero de iteraciones para encontrar solucion : \" + str(ejecuciones) )\n",
        "    print(\"\\n\")\n",
        "    return solucion,ejecuciones"
      ],
      "execution_count": null,
      "outputs": []
    },
    {
      "cell_type": "code",
      "metadata": {
        "colab": {
          "base_uri": "https://localhost:8080/"
        },
        "id": "hh6TBB6Ti2F4",
        "outputId": "a480d531-67ad-401a-c9a8-649122924e72"
      },
      "source": [
        "# se define el programa principal \n",
        "\n",
        "# Calculamos las permutaciones\n",
        "sig_permutados=list(permutations(signos))\n",
        "num_permutaciones=list(permutations(numeros,5))\n",
        "\n",
        "# llamado al programa de fuerza bruta\n",
        "numero_deseado=18\n",
        "Ec_solucion,ejec=fuerza_bruta(num_permutaciones,sig_permutados,numero_deseado)"
      ],
      "execution_count": null,
      "outputs": [
        {
          "output_type": "stream",
          "text": [
            "La combinacion encontrada se debe formar en orden de las operacoiones MDSR (Multiplicacion, Division, Suma, Resta) \n",
            "\n",
            "\n",
            "Combinacion encontrada : ('9', '+', '8', '*', '7', '/', '4', '-', '5') = 18\n",
            "\n",
            "\n",
            "Numero de iteraciones para encontrar solucion : 349361\n",
            "\n",
            "\n",
            "Tiempo de ejecución para algoritmo: 2.621835231781006 Segundos\n"
          ],
          "name": "stdout"
        }
      ]
    },
    {
      "cell_type": "code",
      "metadata": {
        "id": "Mb2_DpyaswpN"
      },
      "source": [
        ""
      ],
      "execution_count": null,
      "outputs": []
    },
    {
      "cell_type": "markdown",
      "metadata": {
        "id": "tgrnsC2nkFa8"
      },
      "source": [
        "#### Calcula la complejidad del algoritmo por fuerza bruta"
      ]
    },
    {
      "cell_type": "markdown",
      "metadata": {
        "id": "9eUd3xwckP68"
      },
      "source": [
        "La complejidad esta dada por recorrer dos bucles \"for\", los cuales recorren las permutaciones de los numeros y las permutaciones de los signos, lo cual implica una complejidad de orden NxN  = O(N^2) adicional el calculo de la funcion eval y el condicional que compara si el resultado se encontro, estas dos son constantes y pueden ser despreciables al momento de calcular la complejidad, por lo tanto, nos quedaremos con una complejidad O(N^2)"
      ]
    },
    {
      "cell_type": "markdown",
      "metadata": {
        "id": "txbrmLmskReM"
      },
      "source": [
        "### 6. (*)Diseña un algoritmo que mejore la complejidad del algortimo por fuerza bruta. Argumenta porque crees que mejora el algoritmo por fuerza bruta"
      ]
    },
    {
      "cell_type": "markdown",
      "metadata": {
        "id": "PphrZalYs1SR"
      },
      "source": [
        "Para resolver el algoritmo que entrega solución óptima al problema, recurrimos a la técnica: \"Divide y Vencerás\".\r\n",
        "La técnica de 'Divide y Vencerás', se utiliza ya que resolver el problema completamente por fuerza bruta, resulta en un algoritmo de alta complejidad, por lo tanto, se subdivide el problema en dos.\r\n",
        "Esta solución es mucho más rápida que la entregada por fuerza bruta, siempre y cuando utilicemos los mismos dígitos arrojados por el primero, pero a medida que lo forzamos a realizarlo con muchos dígitos, el tiempo es más largo.\r\n",
        "Adicional, en la solución implementada, mejore todo el manejo de paréntesis para representar no solo las cifras y los operandos si no toda la ecuación.\r\n",
        "."
      ]
    },
    {
      "cell_type": "code",
      "metadata": {
        "id": "yc8j-gO_i2F6"
      },
      "source": [
        "# Importamos las librerias necesarias\n",
        "import queue"
      ],
      "execution_count": null,
      "outputs": []
    },
    {
      "cell_type": "code",
      "metadata": {
        "id": "PuWLcuVmi2F6"
      },
      "source": [
        "# Definimos funcion para ingresar el valor objetivo a calcular y los numeros que deseamos utilizar\n",
        "def ReadInput () :\n",
        "    s = input(\"Ingrese los numero que desea utilizar (Separados por coma): \")\n",
        "    parts = []\n",
        "    parts = s.split(',')\n",
        "    a = []\n",
        "\n",
        "\n",
        "    for   i in range(len(parts)) :\n",
        "        a.append(int(parts[i])) #int(parts[i])\n",
        "        i=i+1\n",
        "\n",
        "    valueObj = int(input(\"Ingrese el numero objetivo a calcular: \"))\n",
        "    return a,valueObj"
      ],
      "execution_count": null,
      "outputs": []
    },
    {
      "cell_type": "code",
      "metadata": {
        "id": "aSyUy-_Gi2F7"
      },
      "source": [
        "# Dafinimos funcion para resolver por divide y venceras e imprimirlo\n",
        "@calcular_tiempo\n",
        "def SolveAndPrint (numbers,targetValue) :\n",
        "    targetKey = (targetValue << len(numbers)) + (1 << len(numbers)) - 1\n",
        "    solvedKeys  = [] # HashSet\n",
        "    keyToLeftParent  = {}\n",
        "    keyToRightParent  = {}\n",
        "    keyToOperator = {}\n",
        "    q = queue.Queue()\n",
        "\n",
        "\n",
        "    for i in range(len(numbers)) :\n",
        "        key = (numbers[i] << len(numbers)) + (1 << i)\n",
        "        solvedKeys.append(key)\n",
        "        q.put(key)\n",
        "\n",
        "    while (not q.empty() and not targetKey in solvedKeys ) :\n",
        "\n",
        "        curKey = q.get()\n",
        "    \n",
        "        curMask = curKey & ((1 << len(numbers)) - 1)\n",
        "        curValue = curKey >> len(numbers)\n",
        "\n",
        "        keys = []\n",
        "        keys = solvedKeys.copy()\n",
        "\n",
        "        for i in range(len(keys)) :\n",
        "            mask = keys[i] & ((1 << len(numbers)) - 1)\n",
        "            value = keys[i] >> len(numbers)\n",
        "\n",
        "            if ((mask & curMask) == 0) :\n",
        "\n",
        "                for op in range(6) :\n",
        "                    opSign = '\\0'\n",
        "                    newValue = 0\n",
        "\n",
        "                    if op == 0 :\n",
        "                        newValue = curValue + value\n",
        "                        opSign = '+'\n",
        "           \n",
        "                    if op == 1 :\n",
        "                        newValue = curValue - value\n",
        "                        opSign = '-'\n",
        "           \n",
        "          \n",
        "                    if op == 2 :\n",
        "                        newValue = value - curValue\n",
        "                        opSign = '-'\n",
        "           \n",
        "\n",
        "                    if op == 3 :\n",
        "                        newValue = curValue * value\n",
        "                        opSign = '*'\n",
        "\n",
        "                    if op == 4 :\n",
        "                        newValue = -1\n",
        "                        if (value != 0 and curValue % value == 0) :\n",
        "                            newValue = int(curValue / value)\n",
        "                            opSign = '/'\n",
        "              \n",
        "                    if op == 5 :\n",
        "                        newValue = -1\n",
        "                        if (curValue != 0 and value % curValue == 0) :\n",
        "                            newValue = int(value /  curValue)\n",
        "                            opSign = '/'\n",
        "              \n",
        "                    if (newValue >= 0) :\n",
        "                        newMask = (curMask | mask)\n",
        "                        newKey = (newValue << len(numbers)) + newMask\n",
        "\n",
        "                        if (not newKey in  solvedKeys) :\n",
        "                            solvedKeys.append(newKey)\n",
        "                            if (op == 2 or op == 5) :\n",
        "                                keyToLeftParent[newKey]=keys[i]\n",
        "                                keyToRightParent[newKey]= curKey\n",
        "                            else :\n",
        "                                keyToLeftParent[newKey]= curKey\n",
        "                                keyToRightParent[newKey] = keys[i]\n",
        "                            keyToOperator[newKey]= opSign\n",
        "                            q.put(newKey)\n",
        "\n",
        "    if (not targetKey in solvedKeys) :\n",
        "        print(\"Solucion no encontrada\")\n",
        "    else :\n",
        "        PrintExpression(keyToLeftParent, keyToRightParent, keyToOperator, targetKey, len(numbers))\n",
        "        global solucion\n",
        "        solucion = solucion + \" = \" + str(targetValue)\n",
        "        print(solucion)\n",
        "\n"
      ],
      "execution_count": null,
      "outputs": []
    },
    {
      "cell_type": "code",
      "metadata": {
        "id": "kmeIMuAoi2F-"
      },
      "source": [
        "# Defino funcion de imprimir resultado\n",
        "def PrintExpression (keyToLeftParent,keyToRightParent,keyToOperator,key, numbersCount) :\n",
        "    global solucion\n",
        "    if (not key in  keyToOperator) :\n",
        "        solucion = solucion + str(key >> numbersCount)\n",
        "    else :\n",
        "        solucion=solucion + \"(\"\n",
        "        PrintExpression(keyToLeftParent, keyToRightParent, keyToOperator, keyToLeftParent[key], numbersCount)   \n",
        "        solucion = solucion + str(keyToOperator[key])\n",
        "        PrintExpression(keyToLeftParent, keyToRightParent, keyToOperator, keyToRightParent[key], numbersCount)\n",
        "        solucion = solucion + \")\"\n",
        "\n"
      ],
      "execution_count": null,
      "outputs": []
    },
    {
      "cell_type": "code",
      "metadata": {
        "colab": {
          "base_uri": "https://localhost:8080/"
        },
        "id": "JmrcDhAIi2GB",
        "outputId": "0783a201-1c4c-4786-c3dc-9bf9d1cd3da1"
      },
      "source": [
        "# llamado principal\n",
        "solucion =\"\"\n",
        "a,valueObj = ReadInput ()\n",
        "SolveAndPrint(a,valueObj)"
      ],
      "execution_count": null,
      "outputs": [
        {
          "output_type": "stream",
          "text": [
            "Ingrese los numero que desea utilizar (Separados por coma): 9,8,7,4,5\n",
            "Ingrese el numero objetivo a calcular: 18\n",
            "(4+(7*(8/(9-5)))) = 18\n",
            "Tiempo de ejecución para algoritmo: 0.004666805267333984 Segundos\n"
          ],
          "name": "stdout"
        }
      ]
    },
    {
      "cell_type": "markdown",
      "metadata": {
        "id": "eGDB4K6uk1iN"
      },
      "source": [
        "#### (*)Calcula la complejidad del algoritmo "
      ]
    },
    {
      "cell_type": "markdown",
      "metadata": {
        "id": "E-Gh4ReTi2GC"
      },
      "source": [
        "La complejidad del algoritmo disminuye notablemente, pasando de 2.62 segundos a 0.004 segundos, utlizando las mismas operaciones y las mismas cifras, esto se logra mediante la utilizcion de la tecnica divide y venceras y la recursividad que esta inyecta en el codigo\n",
        "\n",
        "Segun el analisis de operaciones y calculo de la complejidad, este nuevo algoritmo, incluyendo las optimizaciones para manejo de pilas y manejo de parentesis, es de orden O(log N)"
      ]
    },
    {
      "cell_type": "markdown",
      "metadata": {
        "id": "3M6QjTsSkmYe"
      },
      "source": [
        "#### Según el problema (y tenga sentido), diseña un juego de datos de entrada aleatorios"
      ]
    },
    {
      "cell_type": "markdown",
      "metadata": {
        "id": "Jc3_OlyNkvjZ"
      },
      "source": [
        "Se genera procedimiento aleatorio, para búsqueda de datos de entrada y valor objetivo, estos son generados y organizados para ser procesados."
      ]
    },
    {
      "cell_type": "code",
      "metadata": {
        "colab": {
          "base_uri": "https://localhost:8080/"
        },
        "id": "sJ-N2etjkyWc",
        "outputId": "e3e53be4-cc59-4467-cb3f-dbddec192470"
      },
      "source": [
        "# Importamos las librerias necesarias\n",
        "import random\n",
        "import queue\n",
        "# Definimos lista de operadores\n",
        "signos =['+','-','*','/']\n",
        "\n",
        "num = []\n",
        "numdv = []\n",
        "\n",
        "longitud = len(num)\n",
        "while longitud < 5 :\n",
        "    numero=str(random.randint(1, 9))\n",
        "    if not numero in num :\n",
        "        num.append(numero)\n",
        "        numdv.append(int(numero))\n",
        "    longitud = len(num)\n",
        "\n",
        "num.sort()\n",
        "target    = random.randint(1, 75)\n",
        "print(\"Informacion del experimento\")\n",
        "print(\"Numeros a utilizar : \" + str(num))\n",
        "print(\"Objetivo a lograr  : \" + str(target))"
      ],
      "execution_count": null,
      "outputs": [
        {
          "output_type": "stream",
          "text": [
            "Informacion del experimento\n",
            "Numeros a utilizar : ['1', '2', '6', '7', '9']\n",
            "Objetivo a lograr  : 67\n"
          ],
          "name": "stdout"
        }
      ]
    },
    {
      "cell_type": "markdown",
      "metadata": {
        "id": "zy5ZROmjlGo1"
      },
      "source": [
        "#### Aplica el algoritmo al juego de datos generado"
      ]
    },
    {
      "cell_type": "markdown",
      "metadata": {
        "id": "_Cmj-PVylMsa"
      },
      "source": [
        "Aplicamos los datos aleatorio de entrada y generamos una solución."
      ]
    },
    {
      "cell_type": "code",
      "metadata": {
        "colab": {
          "base_uri": "https://localhost:8080/"
        },
        "id": "Jkx8GeiYlUz1",
        "outputId": "e4bd1738-eb4c-46f3-f027-dc0c42df5ae1"
      },
      "source": [
        "# Calculamos las permutaciones\n",
        "sig_permutados=list(permutations(signos))\n",
        "num_permutaciones=list(permutations(num,5))\n",
        "solucion =\"\"\n",
        "\n",
        "# llamado al programa de fuerza bruta\n",
        "print(\"Datos algoritmo de fuerza bruta \\n\")\n",
        "numero_deseado=target\n",
        "ff,fc=fuerza_bruta(num_permutaciones,sig_permutados,numero_deseado)\n",
        "\n",
        "# con divide y venceras\n",
        "print(\"\\n\")\n",
        "print(\"Datos algoritmo divide y venceras \\n\")\n",
        "SolveAndPrint (numdv,target)"
      ],
      "execution_count": null,
      "outputs": [
        {
          "output_type": "stream",
          "text": [
            "Datos algoritmo de fuerza bruta \n",
            "\n",
            "La combinacion encontrada se debe formar en orden de las operacoiones MDSR (Multiplicacion, Division, Suma, Resta) \n",
            "\n",
            "\n",
            "Combinacion encontrada : ('9', '*', '7', '+', '6', '-', '2', '/', '1') = 67\n",
            "\n",
            "\n",
            "Numero de iteraciones para encontrar solucion : 2552\n",
            "\n",
            "\n",
            "Tiempo de ejecución para algoritmo: 0.02139139175415039 Segundos\n",
            "\n",
            "\n",
            "Datos algoritmo divide y venceras \n",
            "\n",
            "(6+((1*(7*9))-2)) = 67\n",
            "Tiempo de ejecución para algoritmo: 0.0051174163818359375 Segundos\n"
          ],
          "name": "stdout"
        }
      ]
    },
    {
      "cell_type": "markdown",
      "metadata": {
        "id": "eTFWUJQrtGcv"
      },
      "source": [
        "#### Enumera las referencias que has utilizado(si ha sido necesario) para llevar a cabo el trabajo"
      ]
    },
    {
      "cell_type": "markdown",
      "metadata": {
        "id": "YKQ_mRBttWsP"
      },
      "source": [
        "Las fuentes utilizadas para este trabajo son:\n",
        "\n",
        "> Algoritmos Heurísticos de la asignatura Algoritmos de Optimización, Dr. Raúl Reyero\n",
        "\n",
        "> https://eltamiz.com/elcedazo/2011/07/06/resolviendo-cifras-y-letras-ii/\n",
        "\n",
        "> https://eltamiz.com/elcedazo/2011/06/27/resolviendo-cifras-y-letras-i/\n",
        "\n",
        "> https://www.geeksforgeeks.org/\n",
        "\n",
        "> Fundamentos de algoritmia - G. Brassard & P. Bratley"
      ]
    },
    {
      "cell_type": "markdown",
      "metadata": {
        "id": "kAkDPUyRtYyH"
      },
      "source": [
        "#### Describe brevemente las lineas de como crees que es posible avanzar en el estudio del problema. Ten en cuenta incluso posibles variaciones del problema y/o variaciones al alza del tamaño"
      ]
    },
    {
      "cell_type": "markdown",
      "metadata": {
        "id": "IE0uZmo-tZu-"
      },
      "source": [
        "Considerando la variación en tamaño, el método de fuerza bruta quedaría limitado ya que por la complejidad que maneja llegaría a tiempos de ejecución muy largos, llegando a ser poco eficaz, en el caso del método heuristico por la complejidad lineal es mucho más eficaz, sería interesante jugar con valores y otras restricciones. adicional se podria revisar la opcion de realizar su desarrollo por la tecnica de algoritmos geneticos experimentando con diferentes técnicas de cruce y mutación se pueden conseguir resultados excelentes, especialmente si aumenta el número de dígitos."
      ]
    }
  ]
}