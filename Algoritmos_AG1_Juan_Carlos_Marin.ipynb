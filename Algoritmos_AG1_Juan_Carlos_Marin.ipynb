{
  "nbformat": 4,
  "nbformat_minor": 0,
  "metadata": {
    "colab": {
      "name": "Algoritmos - AG1 - Juan Carlos Marin.ipynb",
      "provenance": [],
      "collapsed_sections": [],
      "authorship_tag": "ABX9TyPZuqncdue6VZd5BWaiu4zv",
      "include_colab_link": true
    },
    "kernelspec": {
      "name": "python3",
      "display_name": "Python 3"
    }
  },
  "cells": [
    {
      "cell_type": "markdown",
      "metadata": {
        "id": "view-in-github",
        "colab_type": "text"
      },
      "source": [
        "<a href=\"https://colab.research.google.com/github/jcmm518/03MAIR-Algoritmos-de-optimizacion/blob/main/Algoritmos_AG1_Juan_Carlos_Marin.ipynb\" target=\"_parent\"><img src=\"https://colab.research.google.com/assets/colab-badge.svg\" alt=\"Open In Colab\"/></a>"
      ]
    },
    {
      "cell_type": "markdown",
      "metadata": {
        "id": "7vslM3cL84O9"
      },
      "source": [
        "# Algoritmos - Actividad Guiada 1\r\n",
        "\r\n",
        "Nombre : Juan Carlos Marin Mejia <br><br>\r\n",
        "URL: [https://colab.research.google.com/drive/1h4ZR92lBIYmIoTCQJblhCPvuuj-iI2n0?usp=sharing](https://colab.research.google.com/drive/1h4ZR92lBIYmIoTCQJblhCPvuuj-iI2n0?usp=sharing)\r\n",
        "\r\n",
        "GitHub: [https://github.com/jcmm518/03MAIR-Algoritmos-de-optimizacion.git](https://github.com/jcmm518/03MAIR-Algoritmos-de-optimizacion.git)"
      ]
    },
    {
      "cell_type": "markdown",
      "metadata": {
        "id": "_hrJiraBDqH1"
      },
      "source": [
        "## Torres de Hanoi con divide y vencerás"
      ]
    },
    {
      "cell_type": "code",
      "metadata": {
        "id": "WgJNM6wn73cc",
        "colab": {
          "base_uri": "https://localhost:8080/"
        },
        "outputId": "1b8432b3-8af9-4d07-a60a-086670d38b1f"
      },
      "source": [
        "def Torres_Hanoi(N,desde,hasta):\r\n",
        "  if N==1 :\r\n",
        "    print(\"Lleva la ficha desde :\" , desde,\" Hasta: \", hasta)\r\n",
        "  else :\r\n",
        "    Torres_Hanoi(N-1,desde,6-desde-hasta)\r\n",
        "    print(\"Lleva la ficha desde :\" , desde,\" Hasta: \", hasta)\r\n",
        "    Torres_Hanoi(N-1,6-desde-hasta,hasta)\r\n",
        "\r\n",
        "Torres_Hanoi(3,1,3)\r\n"
      ],
      "execution_count": 5,
      "outputs": [
        {
          "output_type": "stream",
          "text": [
            "Lleva la ficha desde : 1  Hasta:  3\n",
            "Lleva la ficha desde : 1  Hasta:  2\n",
            "Lleva la ficha desde : 3  Hasta:  2\n",
            "Lleva la ficha desde : 1  Hasta:  3\n",
            "Lleva la ficha desde : 2  Hasta:  1\n",
            "Lleva la ficha desde : 2  Hasta:  3\n",
            "Lleva la ficha desde : 1  Hasta:  3\n"
          ],
          "name": "stdout"
        }
      ]
    },
    {
      "cell_type": "markdown",
      "metadata": {
        "id": "D-ePcQUdzVIC"
      },
      "source": [
        "## Devolución de cambio por técnica voraz"
      ]
    },
    {
      "cell_type": "code",
      "metadata": {
        "id": "43zmtVQqzehe",
        "colab": {
          "base_uri": "https://localhost:8080/"
        },
        "outputId": "080b2ad9-4698-4e17-f4c4-74d976d89046"
      },
      "source": [
        "# Se implementa algoritmo con control de faltante de moneda para completar el total del cambio\r\n",
        "def cambio_monedas(N,SM):\r\n",
        "  SOLUCION = [0] * len(SM)\r\n",
        "  ValorAcumulado = 0\r\n",
        "\r\n",
        "  for i,valor in enumerate(SM):\r\n",
        "      monedas = (N - ValorAcumulado)//valor\r\n",
        "      SOLUCION[i] = monedas\r\n",
        "      ValorAcumulado = ValorAcumulado + (monedas * valor)\r\n",
        "\r\n",
        "      if ValorAcumulado == N :\r\n",
        "          print('El numero de monedas necesarias es: ' + str(SOLUCION))\r\n",
        "       \r\n",
        "      \r\n",
        "  if ValorAcumulado < N :\r\n",
        "      print(\"No se tiene una moneda de menor valor que cubra lo faltante, por lo tanto la soluciòn es : \\n\")\r\n",
        "      print(str(SOLUCION) + ' y ' + str(N-ValorAcumulado) + ' unidades de valor')\r\n",
        "        \r\n",
        "cambio_monedas(137,[25,10,5,1])\r\n",
        "\r\n",
        "\r\n"
      ],
      "execution_count": 24,
      "outputs": [
        {
          "output_type": "stream",
          "text": [
            "El numero de monedas necesarias es: [5, 1, 0, 2]\n"
          ],
          "name": "stdout"
        }
      ]
    },
    {
      "cell_type": "markdown",
      "metadata": {
        "id": "F3xJBI6YG78Z"
      },
      "source": [
        "## N- Reinas por técnica de vuelta atrás"
      ]
    },
    {
      "cell_type": "code",
      "metadata": {
        "id": "b13SBZ4jHAc8",
        "colab": {
          "base_uri": "https://localhost:8080/"
        },
        "outputId": "ff53b97a-05df-47cf-c13c-f54584b6f967"
      },
      "source": [
        "def escribe(S):\r\n",
        "  n = len(S)\r\n",
        "  for x in range(n):\r\n",
        "    print(\"\")\r\n",
        "    for i in range(n):\r\n",
        "      if S[i] == x+1:\r\n",
        "        print(\" X \" , end=\"\")\r\n",
        "      else:\r\n",
        "        print(\" - \", end=\"\")\r\n",
        "\r\n",
        "\r\n",
        "def es_prometedora(SOLUCION,etapa):\r\n",
        "  #print(SOLUCION)\r\n",
        "  #Si la solución tiene dos valores iguales no es valida => Dos reinas en la misma fila\r\n",
        "\r\n",
        "  for i in range(etapa+1):\r\n",
        "    #print(\"El valor \" + str(SOLUCION[i]) + \" está \" +  str(SOLUCION.count(SOLUCION[i])) + \" veces\")\r\n",
        "    if SOLUCION.count(SOLUCION[i]) > 1:       \r\n",
        "      return False\r\n",
        "    #Verifica las diagonales\r\n",
        "    for j in range(i+1, etapa +1 ):\r\n",
        "      #print(\"Comprobando diagonal de \" + str(i) + \" y \" + str(j))\r\n",
        "      if abs(i-j) == abs(SOLUCION[i]-SOLUCION[j]) : return False\r\n",
        "  return True\r\n",
        "\r\n",
        "\r\n",
        "def reinas(N, solucion=[], etapa=0):\r\n",
        "#N: dimension del tablero\r\n",
        "  if len(solucion) == 0 :\r\n",
        "    solucion=[0 for i in range(N) ]\r\n",
        "  for i in range(1,N+1):\r\n",
        "    solucion[etapa] = i\r\n",
        "\r\n",
        "    if es_prometedora(solucion,etapa) :\r\n",
        "      if etapa == N - 1 :\r\n",
        "        print(solucion)\r\n",
        "        escribe(solucion)\r\n",
        "        print()\r\n",
        "      else :\r\n",
        "        reinas(N, solucion, etapa +1)\r\n",
        "    else :\r\n",
        "      None  \r\n",
        "    \r\n",
        "    solucion[etapa] = 0\r\n",
        "\r\n",
        "\r\n",
        "reinas(6)"
      ],
      "execution_count": 25,
      "outputs": [
        {
          "output_type": "stream",
          "text": [
            "[2, 4, 6, 1, 3, 5]\n",
            "\n",
            " -  -  -  X  -  - \n",
            " X  -  -  -  -  - \n",
            " -  -  -  -  X  - \n",
            " -  X  -  -  -  - \n",
            " -  -  -  -  -  X \n",
            " -  -  X  -  -  - \n",
            "[3, 6, 2, 5, 1, 4]\n",
            "\n",
            " -  -  -  -  X  - \n",
            " -  -  X  -  -  - \n",
            " X  -  -  -  -  - \n",
            " -  -  -  -  -  X \n",
            " -  -  -  X  -  - \n",
            " -  X  -  -  -  - \n",
            "[4, 1, 5, 2, 6, 3]\n",
            "\n",
            " -  X  -  -  -  - \n",
            " -  -  -  X  -  - \n",
            " -  -  -  -  -  X \n",
            " X  -  -  -  -  - \n",
            " -  -  X  -  -  - \n",
            " -  -  -  -  X  - \n",
            "[5, 3, 1, 6, 4, 2]\n",
            "\n",
            " -  -  X  -  -  - \n",
            " -  -  -  -  -  X \n",
            " -  X  -  -  -  - \n",
            " -  -  -  -  X  - \n",
            " X  -  -  -  -  - \n",
            " -  -  -  X  -  - \n"
          ],
          "name": "stdout"
        }
      ]
    },
    {
      "cell_type": "markdown",
      "metadata": {
        "id": "nXxH7pTolB17"
      },
      "source": [
        "## Encontrar los dos puntos más cercanos\r\n",
        "\r\n",
        "### Fuerza bruta \r\n",
        "  * La forma más sencilla de resolver este problema es utilizando la fuerza bruta. Sin embargo, al aplicar este método lo que estamos haciendo es comparar las distancias entre n(n-1)/2 pares de puntos, por lo que la complejidad que obtenemos es de O(n^2)."
      ]
    },
    {
      "cell_type": "code",
      "metadata": {
        "colab": {
          "base_uri": "https://localhost:8080/"
        },
        "id": "z1xwly-OAhXr",
        "outputId": "22277832-21b0-4be8-a36f-1fb5850e48fc"
      },
      "source": [
        "import math\r\n",
        "import timeit\r\n",
        "# funcion para encontrar la distancia entre dos puntos\r\n",
        "def dist(p0, p1): \r\n",
        "    return math.sqrt(((p0[0] - p1[0])**2)) + ((p0[1] - p1[1])**2)\r\n",
        "\r\n",
        "# Funcion para encontrar los dos puntos mas cercanos por fuerza bruta\r\n",
        "def bruteForce(P): \r\n",
        "    n=len(P)\r\n",
        "    min_val = float('inf')  \r\n",
        "    for i in range(n): \r\n",
        "        for j in range(i + 1, n): \r\n",
        "            if dist(P[i], P[j]) < min_val: \r\n",
        "                min_val = dist(P[i], P[j]) \r\n",
        "                puntos_cercanos = (P[i], P[j])\r\n",
        "    return puntos_cercanos \r\n",
        "\r\n",
        "P = [(2, 3), (12, 30), (40, 50), (10, 49),  (12, 31), (3, 4),(12, 2),(14, 8),(13, 6)] \r\n",
        "\r\n",
        "hora_inicio = timeit.default_timer () \r\n",
        "print('Los dos puntos mas cercanos son: ')\r\n",
        "print(bruteForce(P))\r\n",
        "print('\\n')\r\n",
        "print (\"Tiempo que tarda la ejecucion al calcular la distancia entre los puntos es de : %s segundos \" % (timeit.default_timer () - hora_inicio))"
      ],
      "execution_count": 30,
      "outputs": [
        {
          "output_type": "stream",
          "text": [
            "Los dos puntos mas cercanos son: \n",
            "((12, 30), (12, 31))\n",
            "\n",
            "\n",
            "Tiempo que tarda la ejecucion al calcular la distancia entre los puntos es de : 0.0003346599987708032 segundos \n"
          ],
          "name": "stdout"
        }
      ]
    },
    {
      "cell_type": "markdown",
      "metadata": {
        "id": "uhwgc2_wDQnh"
      },
      "source": [
        "### Divide y venceras\r\n",
        "* El problema se puede mejorar y obtener una complejidad de O(n logn^2 n) usando el método recursivo de Divide y Vencerás, pero si se ejecuta el sort desde el inicio y no de una forma secuencial, podemos obetener un O (n logn n), como lo desarrollamos a continuacion"
      ]
    },
    {
      "cell_type": "code",
      "metadata": {
        "colab": {
          "base_uri": "https://localhost:8080/"
        },
        "id": "2ApSZBpyyn_g",
        "outputId": "29d25748-61e3-4357-b4c4-cc3d01189c94"
      },
      "source": [
        "import math\r\n",
        "import timeit\r\n",
        "\r\n",
        "# función para encontrar la distancia entre dos puntos\r\n",
        "def lenght(a,b):\r\n",
        "  return (math.sqrt( ((a[0]-b[0])**2)+ ((a[1]-b[1])**2)) )\r\n",
        "\r\n",
        "# función para encontrar los dos puntos mas cercanos por fuerza bruta\r\n",
        "def bruteForce(a,p,q,m):\r\n",
        "\t# Si solo se tienen dos puntos\r\n",
        "  if len(a)==2:\r\n",
        "    dist=lenght(a[0],a[1])\r\n",
        "    if dist<m:\r\n",
        "      p,q=a[0],a[1]\r\n",
        "      m=dist\r\n",
        "\t# Si se tienen mas de dos puntos\r\n",
        "  else:\r\n",
        "    for x in range(0,len(a)-1):\r\n",
        "      for y in range (x+1, len(a)):\r\n",
        "        if m>lenght(a[x],a[y]):\r\n",
        "          m=lenght(a[x],a[y])\r\n",
        "          p,q = a[x],a[y]\t\t\r\n",
        "  return p,q,m\r\n",
        "\r\n",
        "# función para buscar los puntos mas cercanos\r\n",
        "def search_pair(a,p,q,m):\r\n",
        "  l=len(a) \r\n",
        "  if l<=(3): \r\n",
        "    return (bruteForce(a,p,q,m)) # Si solo nos quedan tres o menos puntos, utilizamos fuerza bruta \r\n",
        "  # Encontrar el medio del array, la posición x de este punto medio y dividir la matriz en dos (parte L-izquierda, parte R-derecha)\r\n",
        "  midl=l//2\r\n",
        "  midx=a[midl][0]\r\n",
        "  L=a[:midl]\r\n",
        "  R=a[midl:]\r\n",
        "\r\n",
        "\t# Busqueda de recurrencia en el lado izquierdo, lado derecho y finalmente en la franja\r\n",
        "  p,q,m=search_pair(L,p,q,m)\r\n",
        "  p,q,m=search_pair(R,p,q,m)\r\n",
        "  p,q,m=get_strip(a,midx,p,q,m)\r\n",
        "\t\r\n",
        "\t# retorna puntos y distancia\r\n",
        "  return (p,q,m)\r\n",
        "\t\t       \r\n",
        "\r\n",
        "def get_strip(a,xcoordinate,p,q,m):\r\n",
        "  strip = []\r\n",
        "  right,left = xcoordinate+int(m), xcoordinate-int(m)\r\n",
        "  for x in a:\r\n",
        "    if x[0]>right: break\r\n",
        "    elif left<=x[0]<=right: strip.append(x)\r\n",
        "\t# Se organiza de acuerdo a las coordenadas\r\n",
        "  strip.sort(key=lambda x:x[1]) \r\n",
        "\t# Comprobando distancias y compárandlas con la más corta. necesitamos verificar solo 6 puntos más cercanos.\r\n",
        "  for x in range (0,len(strip)):\r\n",
        "    for y in range (x+1, len(strip)):\r\n",
        "      dist= lenght(strip[x],strip[y])\r\n",
        "      if dist<m:\r\n",
        "        p,q=strip[x],strip[y]\r\n",
        "        m=dist\r\n",
        "  return (p,q,m)\r\n",
        "\r\n",
        "\r\n",
        "# Programa principal\r\n",
        "hora_inicio = timeit.default_timer () \r\n",
        "points = [(2, 3), (12, 30), (40, 50), (10, 49),  (12, 31), (3, 4),(12, 2),(14, 8),(13, 6)] \r\n",
        "points.sort() # Organización de los puntos\r\n",
        "p,q = points[0],points[1] #Tomamos los puntos iniciales p y q \r\n",
        "m=lenght (points[0],points[1]) #Asumimos como menor distancia \r\n",
        "pt,pt2,distance=search_pair(points,p,q,m) #Encontramos los puntos más cercanos\r\n",
        "#print ('Distancia entre los puntos más cercanos : '+ str(distance) + '\\n')\r\n",
        "print('Puntos mas cercanos : ' + str(pt) + ' ' + str(pt2))\r\n",
        "print (\"Tiempo que tarda la ejecucion al calcular la distancia entre los puntos es de : %s segundos \" % (timeit.default_timer () - hora_inicio))"
      ],
      "execution_count": 32,
      "outputs": [
        {
          "output_type": "stream",
          "text": [
            "Puntos mas cercanos : (12, 30) (12, 31)\n",
            "Tiempo que tarda la ejecucion al calcular la distancia entre los puntos es de : 0.0003354399996169377 segundos \n"
          ],
          "name": "stdout"
        }
      ]
    }
  ]
}