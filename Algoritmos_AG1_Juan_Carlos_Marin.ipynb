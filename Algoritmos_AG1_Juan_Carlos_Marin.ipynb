{
  "nbformat": 4,
  "nbformat_minor": 0,
  "metadata": {
    "colab": {
      "name": "Algoritmos - AG1 - Juan Carlos Marin.ipynb",
      "provenance": [],
      "authorship_tag": "ABX9TyOtLx6UOUYm3wogSMzB/v6X",
      "include_colab_link": true
    },
    "kernelspec": {
      "name": "python3",
      "display_name": "Python 3"
    }
  },
  "cells": [
    {
      "cell_type": "markdown",
      "metadata": {
        "id": "view-in-github",
        "colab_type": "text"
      },
      "source": [
        "<a href=\"https://colab.research.google.com/github/jcmm518/03MAIR-Algoritmos-de-optimizacion/blob/main/Algoritmos_AG1_Juan_Carlos_Marin.ipynb\" target=\"_parent\"><img src=\"https://colab.research.google.com/assets/colab-badge.svg\" alt=\"Open In Colab\"/></a>"
      ]
    },
    {
      "cell_type": "markdown",
      "metadata": {
        "id": "7vslM3cL84O9"
      },
      "source": [
        "# Algoritmos - Actividad Guiada 1\r\n",
        "\r\n",
        "Nombre : Juan Carlos Marin Mejia <br>\r\n",
        "URL: [https://colab.research.google.com/drive/1h4ZR92lBIYmIoTCQJblhCPvuuj-iI2n0?usp=sharing](https://colab.research.google.com/drive/1h4ZR92lBIYmIoTCQJblhCPvuuj-iI2n0?usp=sharing)\r\n",
        "\r\n",
        "GitHub: [https://github.com/jcmm518/03MAIR-Algoritmos-de-optimizacion.git](https://github.com/jcmm518/03MAIR-Algoritmos-de-optimizacion.git)"
      ]
    },
    {
      "cell_type": "markdown",
      "metadata": {
        "id": "_hrJiraBDqH1"
      },
      "source": [
        "## Torres de Hanoi con divide y venceras"
      ]
    },
    {
      "cell_type": "code",
      "metadata": {
        "colab": {
          "base_uri": "https://localhost:8080/"
        },
        "id": "WgJNM6wn73cc",
        "outputId": "cde75a04-ed72-4e1b-f498-aca73e9a7ef5"
      },
      "source": [
        "def Torres_Hanoi(N,desde,hasta):\r\n",
        "  if N==1 :\r\n",
        "    print(\"Lleva la ficha desde :\" , desde,\" Hasta: \", hasta)\r\n",
        "\r\n",
        "\r\n",
        "  else :\r\n",
        "    Torres_Hanoi(N-1,desde,6-desde-hasta)\r\n",
        "    print(\"Lleva la ficha desde :\" , desde,\" Hasta: \", hasta)\r\n",
        "    Torres_Hanoi(N-1,6-desde-hasta,hasta)\r\n",
        "\r\n",
        "Torres_Hanoi(3,1,3)\r\n"
      ],
      "execution_count": 3,
      "outputs": [
        {
          "output_type": "stream",
          "text": [
            "Lleva la ficha desde : 1  Hasta:  3\n",
            "Lleva la ficha desde : 1  Hasta:  2\n",
            "Lleva la ficha desde : 3  Hasta:  2\n",
            "Lleva la ficha desde : 1  Hasta:  3\n",
            "Lleva la ficha desde : 2  Hasta:  1\n",
            "Lleva la ficha desde : 2  Hasta:  3\n",
            "Lleva la ficha desde : 1  Hasta:  3\n"
          ],
          "name": "stdout"
        }
      ]
    }
  ]
}