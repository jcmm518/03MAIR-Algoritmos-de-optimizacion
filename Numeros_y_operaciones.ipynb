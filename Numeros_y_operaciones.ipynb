{
  "nbformat": 4,
  "nbformat_minor": 0,
  "metadata": {
    "colab": {
      "name": "Numeros y operaciones.ipynb",
      "provenance": [],
      "authorship_tag": "ABX9TyPymKOvuO3xA7h5Z0iwb17M",
      "include_colab_link": true
    },
    "kernelspec": {
      "name": "python3",
      "display_name": "Python 3"
    }
  },
  "cells": [
    {
      "cell_type": "markdown",
      "metadata": {
        "id": "view-in-github",
        "colab_type": "text"
      },
      "source": [
        "<a href=\"https://colab.research.google.com/github/jcmm518/03MAIR-Algoritmos-de-optimizacion/blob/main/Numeros_y_operaciones.ipynb\" target=\"_parent\"><img src=\"https://colab.research.google.com/assets/colab-badge.svg\" alt=\"Open In Colab\"/></a>"
      ]
    },
    {
      "cell_type": "code",
      "metadata": {
        "colab": {
          "base_uri": "https://localhost:8080/"
        },
        "id": "suJzBDdnoR7w",
        "outputId": "116b5318-d5f3-445d-9152-82ded3e10e96"
      },
      "source": [
        "def ReadInput () :\r\n",
        "  s = input(\"Ingrese los numero que desea utilizar (Separados por coma): \")\r\n",
        "  parts = []\r\n",
        "  parts = s.split(',')\r\n",
        "  a = []\r\n",
        "\r\n",
        "\r\n",
        "  i=0\r\n",
        "  while  i < len(parts) :\r\n",
        "    a.append(int(parts[i])) #int(parts[i])\r\n",
        "    i=i+1\r\n",
        "\r\n",
        "  valueObj = int(input(\"Ingrese el numero objetivo a calcular: \"))\r\n",
        "  return a,valueObj\r\n",
        "\r\n",
        "\r\n",
        "def SolveAndPrint (numbers,targetValue) :\r\n",
        "  targetKey = (targetValue << len(numbers)) + (1 << len(numbers)) - 1\r\n",
        "  solvedKeys  = [] # HashSet\r\n",
        "  keyToLeftParent  = {}\r\n",
        "  keyToRightParent  = {}\r\n",
        "  keyToOperator = {}\r\n",
        "  queue = []\r\n",
        "\r\n",
        "  for i in range(len(numbers)) :\r\n",
        "    key = (numbers[i] << len(numbers)) + (1 << i)\r\n",
        "    solvedKeys.append(key)\r\n",
        "    queue.append(key)\r\n",
        "\r\n",
        "  while (len(queue) > 0 and not targetKey in solvedKeys ) :\r\n",
        "\r\n",
        "    curKey = queue.pop()\r\n",
        "    \r\n",
        "    curMask = curKey & ((1 << len(numbers)) - 1)\r\n",
        "    curValue = curKey >> len(numbers)\r\n",
        "\r\n",
        "    keys = solvedKeys.copy()\r\n",
        "\r\n",
        "    for i in range(len(keys)) :\r\n",
        "      mask = keys[i] & ((1 << len(numbers)) - 1)\r\n",
        "      value = keys[i] >> len(numbers)\r\n",
        "\r\n",
        "      if ((mask & curMask) == 0) :\r\n",
        "\r\n",
        "        for op in range(6) :\r\n",
        "          opSign = '\\0'\r\n",
        "          newValue = 0\r\n",
        "\r\n",
        "          if op == 0 :\r\n",
        "            newValue = curValue + value\r\n",
        "            opSign = '+'\r\n",
        "            break\r\n",
        "\r\n",
        "          if op == 1 :\r\n",
        "            newValue = curValue - value\r\n",
        "            opSign = '-'\r\n",
        "            break        \r\n",
        "\r\n",
        "          if op == 2 :\r\n",
        "            newValue = value - curValue\r\n",
        "            opSign = '-'\r\n",
        "            break\r\n",
        "\r\n",
        "          if op == 3 :\r\n",
        "            newValue = curValue * value\r\n",
        "            opSign = '*'\r\n",
        "            break  \r\n",
        "\r\n",
        "          if op == 4 :\r\n",
        "            newValue = -1\r\n",
        "            if (value != 0 and curValue % value == 0) :\r\n",
        "              newValue = curValue / value\r\n",
        "              opSign = '/'\r\n",
        "              break  \r\n",
        "\r\n",
        "          if op == 5 :\r\n",
        "            newValue = -1\r\n",
        "            if (value != 0 and value & curValue == 0) :\r\n",
        "              newValue = value /  curValue\r\n",
        "              opSign = '/'\r\n",
        "              break  \r\n",
        "\r\n",
        "          if (newValue >= 0) :\r\n",
        "            newMask = (curMask | mask)\r\n",
        "            newKey = (newValue << len(numbers)) + newMask\r\n",
        "\r\n",
        "            if (not newKey in  solvedKeys) :\r\n",
        "              solvedKeys.append(newKey)\r\n",
        "              if (op == 2 or op == 5) :\r\n",
        "                keyToLeftParent.Add(newKey, keys[i])\r\n",
        "                keyToRightParent.Add(newKey, curKey)\r\n",
        "              else :\r\n",
        "                keyToLeftParent.Add(newKey, curKey)\r\n",
        "                keyToRightParent.Add(newKey, keys[i])\r\n",
        "\r\n",
        "              keyToOperator.Add(newKey, opSign)\r\n",
        "              solvedKeys.append(newKey)\r\n",
        "              queue.pop(newKey)\r\n",
        "\r\n",
        "  if (len(solvedKeys) == 0) :\r\n",
        "    print(\"Solution has not been found.\")\r\n",
        "  else :\r\n",
        "    PrintExpression(keyToLeftParent, keyToRightParent, keyToOperator, targetKey, len(numbers))\r\n",
        "\r\n",
        "def PrintExpression (keyToLeftParent,keyToRightParent,keyToOperator,key, numbersCount) :\r\n",
        "  if (not key in  keyToOperator) :\r\n",
        "    print(\"{0}\", key >> numbersCount)\r\n",
        "  else :\r\n",
        "    print(\"(\")\r\n",
        "    PrintExpression(keyToLeftParent, keyToRightParent, keyToOperator, keyToLeftParent[key], numbersCount)\r\n",
        "    print(\")\")\r\n",
        "\r\n",
        "\r\n",
        "\r\n",
        "\r\n",
        "\r\n",
        "\r\n",
        "a,valueObj = ReadInput ()\r\n",
        "SolveAndPrint(a,valueObj)\r\n"
      ],
      "execution_count": 15,
      "outputs": [
        {
          "output_type": "stream",
          "text": [
            "Ingrese los numero que desea utilizar (Separados por coma): 4,8,9\n",
            "Ingrese el numero objetivo a calcular: 18\n",
            "{0} 18\n"
          ],
          "name": "stdout"
        }
      ]
    },
    {
      "cell_type": "code",
      "metadata": {
        "colab": {
          "base_uri": "https://localhost:8080/"
        },
        "id": "Ns_OKEiaa7am",
        "outputId": "b060a681-b302-424f-d4fa-24ec5791bd8c"
      },
      "source": [
        "numero = [1,4,5]\r\n",
        "n = len(numero)\r\n",
        "\r\n",
        "for i in range(6) :\r\n",
        "  print(i)"
      ],
      "execution_count": 12,
      "outputs": [
        {
          "output_type": "stream",
          "text": [
            "0\n",
            "1\n",
            "2\n",
            "3\n",
            "4\n",
            "5\n"
          ],
          "name": "stdout"
        }
      ]
    }
  ]
}