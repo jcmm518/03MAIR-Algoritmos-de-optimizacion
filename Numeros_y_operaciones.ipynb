{
  "nbformat": 4,
  "nbformat_minor": 0,
  "metadata": {
    "colab": {
      "name": "Numeros y operaciones.ipynb",
      "provenance": [],
      "authorship_tag": "ABX9TyOKDsywkfhXFfkTtHLuNwCX",
      "include_colab_link": true
    },
    "kernelspec": {
      "name": "python3",
      "display_name": "Python 3"
    }
  },
  "cells": [
    {
      "cell_type": "markdown",
      "metadata": {
        "id": "view-in-github",
        "colab_type": "text"
      },
      "source": [
        "<a href=\"https://colab.research.google.com/github/jcmm518/03MAIR-Algoritmos-de-optimizacion/blob/main/Numeros_y_operaciones.ipynb\" target=\"_parent\"><img src=\"https://colab.research.google.com/assets/colab-badge.svg\" alt=\"Open In Colab\"/></a>"
      ]
    },
    {
      "cell_type": "code",
      "metadata": {
        "colab": {
          "base_uri": "https://localhost:8080/"
        },
        "id": "suJzBDdnoR7w",
        "outputId": "ff9bf826-f8a8-474f-e440-39c1c1317101"
      },
      "source": [
        "s = input(\"Ingrese los numero que desea utilizar (Separados por coma): \")\r\n",
        "parts = []\r\n",
        "a = []*len(parts)\r\n",
        "parts = s.split(',')\r\n",
        "print(parts)\r\n",
        "print(len(parts))\r\n",
        "\r\n",
        "i=0\r\n",
        "while  i < len(parts) :\r\n",
        "  print(parts[i])\r\n",
        " # a[i] = int(parts[i])\r\n",
        "  i=i+1"
      ],
      "execution_count": 11,
      "outputs": [
        {
          "output_type": "stream",
          "text": [
            "Ingrese los numero que desea utilizar (Separados por coma): 1,2,3\n",
            "['1', '2', '3']\n",
            "3\n",
            "1\n",
            "2\n",
            "3\n"
          ],
          "name": "stdout"
        }
      ]
    }
  ]
}